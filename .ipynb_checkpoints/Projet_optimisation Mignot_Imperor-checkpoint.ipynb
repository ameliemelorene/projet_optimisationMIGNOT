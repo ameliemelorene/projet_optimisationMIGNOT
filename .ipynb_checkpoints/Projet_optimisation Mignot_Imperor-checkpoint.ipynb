{
 "cells": [
  {
   "cell_type": "markdown",
   "metadata": {},
   "source": [
    "Implémentation de l'algorithme d'Arrow-Hurwicz pour la maximisation des revenus du boulanger. D'ailleurs on dit pain au chocolat."
   ]
  },
  {
   "cell_type": "code",
   "execution_count": 1,
   "metadata": {},
   "outputs": [],
   "source": [
    "from casadi import*\n",
    "import time\n",
    "import numpy as np"
   ]
  },
  {
   "cell_type": "code",
   "execution_count": 2,
   "metadata": {},
   "outputs": [],
   "source": [
    "opti=casadi.Opti()\n",
    "p=3\n",
    "m=5\n",
    "q=opti.variable(p)\n",
    "r=opti.variable(m)"
   ]
  },
  {
   "cell_type": "code",
   "execution_count": 3,
   "metadata": {},
   "outputs": [],
   "source": [
    "#alpha=opti.parameter()\n",
    "#c=opti.parameter(m)\n",
    "#v=opti.parameter(p)\n",
    "#d=opti.parameter(p)\n",
    "#A=opti.parameter(m,p)\n",
    "#opti.set_value(alpha, 0.1)\n",
    "#opti.set_value(c, DM([30e-3,1e-3,1.3e-3,4e-3,1e-3]))\n",
    "#opti.set_value(v, DM([0.9,1.5,1.1]))\n",
    "#opti.set_value(d ,DM([400,67,33]))\n",
    "#opti.set_value(A, DM([[3.5,2,1],[250,80,25],[0,8,3],[0,40,10],[0,8.5,0]]))\n"
   ]
  },
  {
   "cell_type": "code",
   "execution_count": 4,
   "metadata": {},
   "outputs": [],
   "source": [
    "alpha = .1\n",
    "c = casadi.MX(np.array([30e-3,1e-3,1.3e-3,4e-3,1e-3]))\n",
    "v = casadi.MX(np.array([0.9,1.5,1.1]))\n",
    "d = casadi.MX(np.array([400,67,33]))\n",
    "A = casadi.MX(np.array([[3.5,2,1],[250,80,25],[0,8,3],[0,40,10],[0,8.5,0]]))"
   ]
  },
  {
   "cell_type": "code",
   "execution_count": 5,
   "metadata": {},
   "outputs": [],
   "source": [
    "def hfun(q):\n",
    "    \"\"\"q et d sont des variables casadi\"\"\"\n",
    "    return (q*casadi.exp(-alpha*q)+d*casadi.exp(-alpha*d))/(casadi.exp(-alpha*q)+casadi.exp(-alpha*d))"
   ]
  },
  {
   "cell_type": "code",
   "execution_count": 6,
   "metadata": {},
   "outputs": [],
   "source": [
    "def funobj(q,r):\n",
    "    return mtimes(c.T,r)-mtimes(v.T,hfun(q))"
   ]
  },
  {
   "cell_type": "code",
   "execution_count": 7,
   "metadata": {},
   "outputs": [],
   "source": [
    "opti.minimize(mtimes(c.T,r)-mtimes(v.T,hfun(q)))\n",
    "opti.subject_to(mtimes(A,q)-r<=0)\n",
    "opti.subject_to(q>=0)\n",
    "opti.subject_to(r>=0)"
   ]
  },
  {
   "cell_type": "code",
   "execution_count": 8,
   "metadata": {},
   "outputs": [
    {
     "name": "stdout",
     "output_type": "stream",
     "text": [
      "\n",
      "******************************************************************************\n",
      "This program contains Ipopt, a library for large-scale nonlinear optimization.\n",
      " Ipopt is released as open source code under the Eclipse Public License (EPL).\n",
      "         For more information visit http://projects.coin-or.org/Ipopt\n",
      "******************************************************************************\n",
      "\n",
      "This is Ipopt version 3.12.3, running with linear solver mumps.\n",
      "NOTE: Other linear solvers might be more efficient (see Ipopt documentation).\n",
      "\n",
      "Number of nonzeros in equality constraint Jacobian...:        0\n",
      "Number of nonzeros in inequality constraint Jacobian.:       28\n",
      "Number of nonzeros in Lagrangian Hessian.............:        3\n",
      "\n",
      "Total number of variables............................:        8\n",
      "                     variables with only lower bounds:        0\n",
      "                variables with lower and upper bounds:        0\n",
      "                     variables with only upper bounds:        0\n",
      "Total number of equality constraints.................:        0\n",
      "Total number of inequality constraints...............:       13\n",
      "        inequality constraints with only lower bounds:        8\n",
      "   inequality constraints with lower and upper bounds:        0\n",
      "        inequality constraints with only upper bounds:        5\n",
      "\n",
      "iter    objective    inf_pr   inf_du lg(mu)  ||d||  lg(rg) alpha_du alpha_pr  ls\n",
      "   0 -1.4147887e+000 0.00e+000 1.14e+000  -1.0 0.00e+000    -  0.00e+000 0.00e+000   0\n",
      "   1 -1.4234740e+000 3.51e-003 3.64e+000  -1.0 1.23e-001    -  2.97e-001 6.39e-001f  1\n",
      "   2 -1.4117039e+000 2.44e-003 3.93e+000  -1.0 3.99e-001    -  2.58e-001 2.75e-001f  1\n",
      "   3 -1.4168556e+000 1.61e-003 9.59e+000  -1.0 3.60e-001    -  4.91e-001 3.80e-001f  1\n",
      "   4 -1.4446942e+000 0.00e+000 9.27e+001  -1.0 2.71e+000    -  3.99e-001 1.00e+000f  1\n",
      "   5 -1.4747093e+000 0.00e+000 1.71e+001  -1.0 3.76e+000    -  4.86e-001 1.00e+000f  1\n",
      "   6 -1.6061351e+000 0.00e+000 1.12e+001  -1.0 7.42e+000    -  5.26e-001 1.00e+000f  1\n",
      "   7 -4.2217395e+000 0.00e+000 1.12e+000  -1.0 6.03e+001    -  2.02e-001 1.00e+000f  1\n",
      "   8 -1.7970733e+001 0.00e+000 2.92e+000  -1.0 5.85e+002    -  1.06e-001 5.36e-001f  1\n",
      "   9 -2.5953747e+001 0.00e+000 5.42e+000  -1.0 2.31e+003    -  1.45e-001 1.00e+000f  1\n",
      "iter    objective    inf_pr   inf_du lg(mu)  ||d||  lg(rg) alpha_du alpha_pr  ls\n",
      "  10 -2.6237070e+001 0.00e+000 3.06e+000  -1.0 1.64e+001  -4.0 5.54e-001 1.00e+000f  1\n",
      "  11 -3.2405165e+001 0.00e+000 3.18e+000  -1.0 9.78e+001  -4.5 1.85e-002 2.29e-001f  1\n",
      "  12 -3.8001876e+001 0.00e+000 4.14e+000  -1.0 2.27e+003  -5.0 1.68e-002 1.04e-001f  1\n",
      "  13 -5.2929756e+001 0.00e+000 2.74e+000  -1.0 1.31e+003  -3.6 1.87e-003 3.52e-002f  1\n",
      "  14 -5.6957466e+001 0.00e+000 4.45e-001  -1.0 1.02e+002  -4.1 7.83e-001 1.00e+000f  1\n",
      "  15 -6.1930840e+001 0.00e+000 9.93e-002  -1.7 2.22e+002  -4.6 9.71e-001 8.93e-001f  1\n",
      "  16 -7.2993133e+001 0.00e+000 1.20e-002  -2.5 7.17e+002  -5.1 9.20e-001 9.59e-001f  1\n",
      "  17 -1.0792441e+002 0.00e+000 5.51e-001  -3.8 2.45e+003  -5.5 5.22e-001 9.17e-001f  1\n",
      "  18 -1.1526457e+002 0.00e+000 5.45e-001  -3.8 1.38e+003    -  8.38e-001 1.00e+000f  1\n",
      "  19 -1.1568960e+002 0.00e+000 5.45e-001  -3.8 7.83e+001    -  7.78e-004 1.00e+000f  1\n",
      "iter    objective    inf_pr   inf_du lg(mu)  ||d||  lg(rg) alpha_du alpha_pr  ls\n",
      "  20 -2.1693802e+002 0.00e+000 9.00e-001  -3.8 3.73e+008    -  3.33e-007 4.88e-004f 12\n",
      "  21 -3.1472936e+002 0.00e+000 5.45e-001  -3.8 8.63e+009    -  8.79e-001 1.05e-005f  2\n",
      "  22 -3.1478438e+002 0.00e+000 5.37e-001  -3.8 1.27e+003  -6.0 9.87e-001 1.48e-002f  1\n",
      "  23 -3.2528810e+002 0.00e+000 4.62e-002  -3.8 4.08e+003  -6.5 9.66e-001 1.00e+000f  1\n",
      "  24 -3.2638341e+002 0.00e+000 7.76e-001  -3.8 2.17e+004    -  1.00e+000 5.00e-001f  2\n",
      "  25 -3.2988437e+002 0.00e+000 9.56e-001  -3.8 8.44e+003  -7.0 5.47e-001 1.00e+000f  1\n",
      "  26 -3.2988844e+002 0.00e+000 9.56e-001  -3.8 4.07e+003    -  1.00e+000 3.73e-004f  1\n",
      "  27 -3.3254599e+002 0.00e+000 2.64e-001  -3.8 4.74e+003    -  1.00e+000 1.00e+000f  1\n",
      "  28 -3.3344001e+002 0.00e+000 8.51e-002  -3.8 2.20e+003    -  1.00e+000 1.00e+000f  1\n",
      "  29 -3.3352082e+002 0.00e+000 6.80e-004  -3.8 4.73e+002    -  1.00e+000 1.00e+000f  1\n",
      "iter    objective    inf_pr   inf_du lg(mu)  ||d||  lg(rg) alpha_du alpha_pr  ls\n",
      "  30 -3.3352157e+002 0.00e+000 1.11e-007  -5.7 3.70e+000    -  1.00e+000 1.00e+000f  1\n",
      "  31 -3.3352158e+002 0.00e+000 2.51e-014  -8.6 1.82e-003    -  1.00e+000 1.00e+000f  1\n",
      "\n",
      "Number of Iterations....: 31\n",
      "\n",
      "                                   (scaled)                 (unscaled)\n",
      "Objective...............: -3.3352157843007313e+002  -3.3352157843007313e+002\n",
      "Dual infeasibility......:  2.5059164812657464e-014   2.5059164812657464e-014\n",
      "Constraint violation....:  0.0000000000000000e+000   0.0000000000000000e+000\n",
      "Complementarity.........:  2.5114052874656874e-009   2.5114052874656874e-009\n",
      "Overall NLP error.......:  2.5114052874656874e-009   2.5114052874656874e-009\n",
      "\n",
      "\n",
      "Number of objective function evaluations             = 47\n",
      "Number of objective gradient evaluations             = 32\n",
      "Number of equality constraint evaluations            = 0\n",
      "Number of inequality constraint evaluations          = 47\n",
      "Number of equality constraint Jacobian evaluations   = 0\n",
      "Number of inequality constraint Jacobian evaluations = 32\n",
      "Number of Lagrangian Hessian evaluations             = 31\n",
      "Total CPU secs in IPOPT (w/o function evaluations)   =      0.125\n",
      "Total CPU secs in NLP function evaluations           =      0.000\n",
      "\n",
      "EXIT: Optimal Solution Found.\n",
      "      solver  :   t_proc      (avg)   t_wall      (avg)    n_eval\n",
      "       nlp_f  |        0 (       0)        0 (       0)        47\n",
      "       nlp_g  |        0 (       0)        0 (       0)        47\n",
      "  nlp_grad_f  |        0 (       0)        0 (       0)        33\n",
      "  nlp_hess_l  |        0 (       0)        0 (       0)        31\n",
      "   nlp_jac_g  |        0 (       0)        0 (       0)        33\n",
      "       total  | 137.00ms (137.00ms) 137.54ms (137.54ms)         1\n",
      "[402.12704191  73.10746942  42.43483579]\n",
      "[  1596.09442138 107441.22892795    712.16426462   3348.6471352\n",
      "    621.41349254]\n"
     ]
    }
   ],
   "source": [
    "q0 = np.array([0.0, 0.0, 0.0])\n",
    "r0 = np.array([0.0, 0.0, 0.0, 0.0, 0.0])\n",
    "#opti.set_initial(r,r0)\n",
    "#opti.set_initial(q,q0)\n",
    "opti.solver('ipopt');\n",
    "sol = opti.solve();\n",
    "print(sol.value(q))\n",
    "print(sol.value(r))"
   ]
  },
  {
   "cell_type": "code",
   "execution_count": 9,
   "metadata": {},
   "outputs": [],
   "source": [
    "opti = casadi.Opti()\n",
    "r = opti.variable(m)\n",
    "q = opti.variable(p)"
   ]
  },
  {
   "cell_type": "code",
   "execution_count": 10,
   "metadata": {},
   "outputs": [],
   "source": [
    "d_list = [MX([400, 67, 33]), MX([500, 80, 53]), MX([300, 60, 43])]\n",
    "prob_list = [0.5, 0.3, 0.2]\n",
    "h_list = [( ( q*exp(-alpha*q) ) + ( d*exp(-alpha*d) ) ) / ( exp(-alpha*q) + exp(-alpha*d) ) for d in d_list]\n",
    "f = -prob_list[0]*( dot(v,h_list[0]) - dot(c,r) ) - prob_list[1]*( dot(v,h_list[1]) - dot(c,r) ) - prob_list[2]*( dot(v,h_list[2]) - dot(c,r) )\n"
   ]
  },
  {
   "cell_type": "code",
   "execution_count": 12,
   "metadata": {},
   "outputs": [
    {
     "name": "stdout",
     "output_type": "stream",
     "text": [
      "This is Ipopt version 3.12.3, running with linear solver mumps.\n",
      "NOTE: Other linear solvers might be more efficient (see Ipopt documentation).\n",
      "\n",
      "Number of nonzeros in equality constraint Jacobian...:        0\n",
      "Number of nonzeros in inequality constraint Jacobian.:       56\n",
      "Number of nonzeros in Lagrangian Hessian.............:        3\n",
      "\n",
      "Total number of variables............................:        8\n",
      "                     variables with only lower bounds:        0\n",
      "                variables with lower and upper bounds:        0\n",
      "                     variables with only upper bounds:        0\n",
      "Total number of equality constraints.................:        0\n",
      "Total number of inequality constraints...............:       26\n",
      "        inequality constraints with only lower bounds:        0\n",
      "   inequality constraints with lower and upper bounds:        0\n",
      "        inequality constraints with only upper bounds:       26\n",
      "\n",
      "iter    objective    inf_pr   inf_du lg(mu)  ||d||  lg(rg) alpha_du alpha_pr  ls\n",
      "   0 -9.7748379e-001 0.00e+000 1.15e+000  -1.0 0.00e+000    -  0.00e+000 0.00e+000   0\n",
      "   1 -9.8539594e-001 3.41e-003 3.63e+000  -1.0 1.22e-001    -  3.06e-001 6.49e-001f  1\n",
      "   2 -9.7447349e-001 2.36e-003 4.01e+000  -1.0 4.01e-001    -  2.60e-001 2.78e-001f  1\n",
      "   3 -9.7937905e-001 1.48e-003 4.83e+000  -1.0 3.54e-001    -  4.73e-001 4.12e-001f  1\n",
      "   4 -1.0026607e+000 0.00e+000 8.40e+001  -1.0 2.51e+000    -  4.40e-001 1.00e+000f  1\n",
      "   5 -9.8344899e-001 0.00e+000 2.26e+001  -1.0 4.73e+000    -  4.02e-001 9.32e-001f  1\n",
      "   6 -1.0272579e+000 0.00e+000 8.48e+000  -1.0 5.25e+000    -  6.69e-001 1.00e+000f  1\n",
      "   7 -2.0761080e+000 0.00e+000 1.97e+000  -1.0 3.34e+001    -  2.52e-001 8.48e-001f  1\n",
      "   8 -5.0057162e+000 0.00e+000 2.90e+000  -1.0 8.07e+001    -  3.16e-001 1.00e+000f  1\n",
      "   9 -3.0463291e+001 0.00e+000 1.99e+000  -1.0 1.10e+003    -  9.93e-002 5.50e-001f  1\n",
      "iter    objective    inf_pr   inf_du lg(mu)  ||d||  lg(rg) alpha_du alpha_pr  ls\n",
      "  10 -4.1665208e+001 0.00e+000 1.65e+000  -1.0 8.35e+002    -  5.20e-001 1.00e+000f  1\n",
      "  11 -4.2998857e+001 0.00e+000 1.19e+000  -1.0 7.87e+001    -  3.00e-001 1.00e+000f  1\n",
      "  12 -5.4975780e+001 0.00e+000 1.16e+000  -1.0 7.23e+003    -  2.02e-002 1.11e-001f  1\n",
      "  13 -9.1563335e+001 0.00e+000 1.81e+000  -1.0 2.54e+004    -  3.36e-002 5.00e-001f  2\n",
      "  14 -1.2177680e+002 0.00e+000 1.78e+000  -1.0 6.39e+005    -  4.89e-001 1.05e-002f  2\n",
      "  15 -1.2319546e+002 0.00e+000 2.89e-001  -1.0 5.29e+002    -  2.18e-001 1.00e+000f  1\n",
      "  16 -1.5488379e+002 0.00e+000 1.36e-002  -1.0 1.44e+004    -  3.51e-001 1.00e+000f  1\n",
      "  17 -2.5222977e+002 0.00e+000 9.00e-001  -1.0 3.07e+005    -  4.66e-002 5.00e-001f  2\n",
      "  18 -3.0069009e+002 0.00e+000 1.73e-001  -1.0 7.08e+006    -  3.54e-001 1.18e-002f  2\n",
      "  19 -3.0041080e+002 0.00e+000 1.52e-001  -1.0 7.40e+001  -4.0 9.44e-001 1.25e-001f  4\n",
      "iter    objective    inf_pr   inf_du lg(mu)  ||d||  lg(rg) alpha_du alpha_pr  ls\n",
      "  20 -3.0079714e+002 0.00e+000 6.58e-004  -1.7 1.97e+001  -4.5 1.00e+000 1.00e+000f  1\n",
      "  21 -3.0124901e+002 0.00e+000 4.83e-004  -2.5 4.34e+001  -5.0 1.00e+000 9.05e-001f  1\n",
      "  22 -3.0155594e+002 0.00e+000 4.83e-004  -3.8 1.30e+002  -5.4 1.00e+000 8.66e-001f  1\n",
      "  23 -3.0183121e+002 0.00e+000 4.83e-004  -3.8 3.93e+002  -5.9 1.00e+000 3.05e-001f  1\n",
      "  24 -3.0278110e+002 0.00e+000 4.86e-004  -5.7 1.19e+003  -6.4 9.98e-001 3.73e-001f  1\n",
      "  25 -3.0829290e+002 0.00e+000 3.01e-003  -5.7 3.69e+003  -6.9 1.00e+000 9.99e-001f  1\n",
      "  26 -3.2341012e+002 0.00e+000 5.54e-001  -5.7 1.37e+004  -7.3 1.00e+000 1.00e+000f  1\n",
      "  27 -3.2389285e+002 0.00e+000 5.13e-002  -5.7 1.93e+003    -  1.00e+000 1.00e+000f  1\n",
      "  28 -3.2395958e+002 0.00e+000 2.98e-003  -5.7 6.35e+002    -  1.00e+000 1.00e+000f  1\n",
      "  29 -3.2395983e+002 0.00e+000 1.62e-005  -5.7 4.12e+001    -  1.00e+000 1.00e+000f  1\n",
      "iter    objective    inf_pr   inf_du lg(mu)  ||d||  lg(rg) alpha_du alpha_pr  ls\n",
      "  30 -3.2395984e+002 0.00e+000 4.91e-010  -8.6 2.21e-001    -  1.00e+000 1.00e+000f  1\n",
      "\n",
      "Number of Iterations....: 30\n",
      "\n",
      "                                   (scaled)                 (unscaled)\n",
      "Objective...............: -3.2395984398031737e+002  -3.2395984398031737e+002\n",
      "Dual infeasibility......:  4.9100679078151188e-010   4.9100679078151188e-010\n",
      "Constraint violation....:  0.0000000000000000e+000   0.0000000000000000e+000\n",
      "Complementarity.........:  2.5163465377329827e-009   2.5163465377329827e-009\n",
      "Overall NLP error.......:  2.5163465377329827e-009   2.5163465377329827e-009\n",
      "\n",
      "\n",
      "Number of objective function evaluations             = 43\n",
      "Number of objective gradient evaluations             = 31\n",
      "Number of equality constraint evaluations            = 0\n",
      "Number of inequality constraint evaluations          = 43\n",
      "Number of equality constraint Jacobian evaluations   = 0\n",
      "Number of inequality constraint Jacobian evaluations = 31\n",
      "Number of Lagrangian Hessian evaluations             = 30\n",
      "Total CPU secs in IPOPT (w/o function evaluations)   =      0.056\n",
      "Total CPU secs in NLP function evaluations           =      0.002\n",
      "\n",
      "EXIT: Optimal Solution Found.\n",
      "      solver  :   t_proc      (avg)   t_wall      (avg)    n_eval\n",
      "       nlp_f  |        0 (       0)        0 (       0)        43\n",
      "       nlp_g  |   1.00ms ( 23.26us) 999.00us ( 23.23us)        43\n",
      "  nlp_grad_f  |        0 (       0)        0 (       0)        32\n",
      "  nlp_hess_l  |   1.00ms ( 33.33us)   1.00ms ( 33.43us)        30\n",
      "   nlp_jac_g  |        0 (       0)        0 (       0)        32\n",
      "       total  |  65.00ms ( 65.00ms)  64.87ms ( 64.87ms)         1\n",
      "q optimal :  [406.6984267   77.13921035  54.2895603 ]\n",
      "r optimal :  [  1632.01247462 109202.98251641    779.98236755   3628.4640183\n",
      "    655.68329297]\n"
     ]
    }
   ],
   "source": [
    "opti.minimize(f)\n",
    "opti.subject_to(A@q-r<=0)\n",
    "opti.subject_to(-q<=0)\n",
    "opti.subject_to(-r<=0)\n",
    "r0 = np.zeros((m, 1))\n",
    "opti.set_initial(r, r0)\n",
    "q0 = np.zeros((p, 1))\n",
    "opti.set_initial(q, q0)\n",
    "opti.solver('ipopt')\n",
    "sol = opti.solve()\n",
    "print(\"q optimal : \", sol.value(q))\n",
    "print(\"r optimal : \", sol.value(r))"
   ]
  },
  {
   "cell_type": "code",
   "execution_count": null,
   "metadata": {},
   "outputs": [],
   "source": []
  }
 ],
 "metadata": {
  "kernelspec": {
   "display_name": "Python 3",
   "language": "python",
   "name": "python3"
  },
  "language_info": {
   "codemirror_mode": {
    "name": "ipython",
    "version": 3
   },
   "file_extension": ".py",
   "mimetype": "text/x-python",
   "name": "python",
   "nbconvert_exporter": "python",
   "pygments_lexer": "ipython3",
   "version": "3.8.3"
  }
 },
 "nbformat": 4,
 "nbformat_minor": 4
}
