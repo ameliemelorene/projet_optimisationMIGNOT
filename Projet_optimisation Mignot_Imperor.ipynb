{
 "cells": [
  {
   "cell_type": "markdown",
   "metadata": {},
   "source": [
    "Implémentation de l'algorithme d'Arrow-Hurwicz pour la maximisation des revenus du boulanger. D'ailleurs on dit pain au chocolat."
   ]
  },
  {
   "cell_type": "code",
   "execution_count": 1,
   "metadata": {},
   "outputs": [],
   "source": [
    "from casadi import*\n",
    "import time\n",
    "import numpy as np"
   ]
  },
  {
   "cell_type": "code",
   "execution_count": 2,
   "metadata": {},
   "outputs": [],
   "source": [
    "opti=casadi.Opti()\n",
    "p=3\n",
    "m=5\n",
    "q=opti.variable(p)\n",
    "r=opti.variable(m)"
   ]
  },
  {
   "cell_type": "code",
   "execution_count": 3,
   "metadata": {},
   "outputs": [],
   "source": [
    "#alpha=opti.parameter()\n",
    "#c=opti.parameter(m)\n",
    "#v=opti.parameter(p)\n",
    "#d=opti.parameter(p)\n",
    "#A=opti.parameter(m,p)\n",
    "#opti.set_value(alpha, 0.1)\n",
    "#opti.set_value(c, DM([30e-3,1e-3,1.3e-3,4e-3,1e-3]))\n",
    "#opti.set_value(v, DM([0.9,1.5,1.1]))\n",
    "#opti.set_value(d ,DM([400,67,33]))\n",
    "#opti.set_value(A, DM([[3.5,2,1],[250,80,25],[0,8,3],[0,40,10],[0,8.5,0]]))\n"
   ]
  },
  {
   "cell_type": "code",
   "execution_count": 10,
   "metadata": {},
   "outputs": [],
   "source": [
    "alpha = .1\n",
    "c = casadi.MX(np.array([30e-3,1e-3,1.3e-3,4e-3,1e-3]))\n",
    "v = casadi.MX(np.array([0.9,1.5,1.1]))\n",
    "d = casadi.MX(np.array([400,67,33]))\n",
    "A = casadi.MX(np.array([[3.5,2,1],[250,80,25],[0,8,3],[0,40,10],[0,8.5,0]]))"
   ]
  },
  {
   "cell_type": "code",
   "execution_count": 14,
   "metadata": {},
   "outputs": [],
   "source": [
    "def hfun(q):\n",
    "    \"\"\"q et d sont des variables casadi\"\"\"\n",
    "    return (q*casadi.exp(-alpha*q)+d*casadi.exp(-alpha*d))/(casadi.exp(-alpha*q)+casadi.exp(-alpha*d))"
   ]
  },
  {
   "cell_type": "code",
   "execution_count": 15,
   "metadata": {},
   "outputs": [],
   "source": [
    "def funobj(q,r):\n",
    "    return mtimes(c.T,r)-mtimes(v.T,hfun(q))"
   ]
  },
  {
   "cell_type": "code",
   "execution_count": 17,
   "metadata": {},
   "outputs": [],
   "source": [
    "opti.minimize(mtimes(c.T,r)-mtimes(v.T,hfun(q)))\n",
    "opti.subject_to(mtimes(A,q)-r<=0)\n",
    "opti.subject_to(q>=0)\n",
    "opti.subject_to(r>=0)"
   ]
  },
  {
   "cell_type": "code",
   "execution_count": 18,
   "metadata": {},
   "outputs": [
    {
     "name": "stdout",
     "output_type": "stream",
     "text": [
      "\n",
      "******************************************************************************\n",
      "This program contains Ipopt, a library for large-scale nonlinear optimization.\n",
      " Ipopt is released as open source code under the Eclipse Public License (EPL).\n",
      "         For more information visit http://projects.coin-or.org/Ipopt\n",
      "******************************************************************************\n",
      "\n",
      "This is Ipopt version 3.12.3, running with linear solver mumps.\n",
      "NOTE: Other linear solvers might be more efficient (see Ipopt documentation).\n",
      "\n",
      "Number of nonzeros in equality constraint Jacobian...:        0\n",
      "Number of nonzeros in inequality constraint Jacobian.:       28\n",
      "Number of nonzeros in Lagrangian Hessian.............:        3\n",
      "\n",
      "Total number of variables............................:        8\n",
      "                     variables with only lower bounds:        0\n",
      "                variables with lower and upper bounds:        0\n",
      "                     variables with only upper bounds:        0\n",
      "Total number of equality constraints.................:        0\n",
      "Total number of inequality constraints...............:       13\n",
      "        inequality constraints with only lower bounds:        8\n",
      "   inequality constraints with lower and upper bounds:        0\n",
      "        inequality constraints with only upper bounds:        5\n",
      "\n",
      "iter    objective    inf_pr   inf_du lg(mu)  ||d||  lg(rg) alpha_du alpha_pr  ls\n",
      "   0 -1.4147887e+000 0.00e+000 1.14e+000  -1.0 0.00e+000    -  0.00e+000 0.00e+000   0\n",
      "   1 -1.4234740e+000 3.51e-003 3.64e+000  -1.0 1.23e-001    -  2.97e-001 6.39e-001f  1\n",
      "   2 -1.4117039e+000 2.44e-003 3.93e+000  -1.0 3.99e-001    -  2.58e-001 2.75e-001f  1\n",
      "   3 -1.4168556e+000 1.61e-003 9.59e+000  -1.0 3.60e-001    -  4.91e-001 3.80e-001f  1\n",
      "   4 -1.4446942e+000 0.00e+000 9.27e+001  -1.0 2.71e+000    -  3.99e-001 1.00e+000f  1\n",
      "   5 -1.4747093e+000 0.00e+000 1.71e+001  -1.0 3.76e+000    -  4.86e-001 1.00e+000f  1\n",
      "   6 -1.6061351e+000 0.00e+000 1.12e+001  -1.0 7.42e+000    -  5.26e-001 1.00e+000f  1\n",
      "   7 -4.2217395e+000 0.00e+000 1.12e+000  -1.0 6.03e+001    -  2.02e-001 1.00e+000f  1\n",
      "   8 -1.7970733e+001 0.00e+000 2.92e+000  -1.0 5.85e+002    -  1.06e-001 5.36e-001f  1\n",
      "   9 -2.5953747e+001 0.00e+000 5.42e+000  -1.0 2.31e+003    -  1.45e-001 1.00e+000f  1\n",
      "iter    objective    inf_pr   inf_du lg(mu)  ||d||  lg(rg) alpha_du alpha_pr  ls\n",
      "  10 -2.6237070e+001 0.00e+000 3.06e+000  -1.0 1.64e+001  -4.0 5.54e-001 1.00e+000f  1\n",
      "  11 -3.2405165e+001 0.00e+000 3.18e+000  -1.0 9.78e+001  -4.5 1.85e-002 2.29e-001f  1\n",
      "  12 -3.8001876e+001 0.00e+000 4.14e+000  -1.0 2.27e+003  -5.0 1.68e-002 1.04e-001f  1\n",
      "  13 -5.2929756e+001 0.00e+000 2.74e+000  -1.0 1.31e+003  -3.6 1.87e-003 3.52e-002f  1\n",
      "  14 -5.6957466e+001 0.00e+000 4.45e-001  -1.0 1.02e+002  -4.1 7.83e-001 1.00e+000f  1\n",
      "  15 -6.1930840e+001 0.00e+000 9.93e-002  -1.7 2.22e+002  -4.6 9.71e-001 8.93e-001f  1\n",
      "  16 -7.2993133e+001 0.00e+000 1.20e-002  -2.5 7.17e+002  -5.1 9.20e-001 9.59e-001f  1\n",
      "  17 -1.0792441e+002 0.00e+000 5.51e-001  -3.8 2.45e+003  -5.5 5.22e-001 9.17e-001f  1\n",
      "  18 -1.1526457e+002 0.00e+000 5.45e-001  -3.8 1.38e+003    -  8.38e-001 1.00e+000f  1\n",
      "  19 -1.1568960e+002 0.00e+000 5.45e-001  -3.8 7.83e+001    -  7.78e-004 1.00e+000f  1\n",
      "iter    objective    inf_pr   inf_du lg(mu)  ||d||  lg(rg) alpha_du alpha_pr  ls\n",
      "  20 -2.1693802e+002 0.00e+000 9.00e-001  -3.8 3.73e+008    -  3.33e-007 4.88e-004f 12\n",
      "  21 -3.1472936e+002 0.00e+000 5.45e-001  -3.8 8.63e+009    -  8.79e-001 1.05e-005f  2\n",
      "  22 -3.1478438e+002 0.00e+000 5.37e-001  -3.8 1.27e+003  -6.0 9.87e-001 1.48e-002f  1\n",
      "  23 -3.2528810e+002 0.00e+000 4.62e-002  -3.8 4.08e+003  -6.5 9.66e-001 1.00e+000f  1\n",
      "  24 -3.2638341e+002 0.00e+000 7.76e-001  -3.8 2.17e+004    -  1.00e+000 5.00e-001f  2\n",
      "  25 -3.2988437e+002 0.00e+000 9.56e-001  -3.8 8.44e+003  -7.0 5.47e-001 1.00e+000f  1\n",
      "  26 -3.2988844e+002 0.00e+000 9.56e-001  -3.8 4.07e+003    -  1.00e+000 3.73e-004f  1\n",
      "  27 -3.3254599e+002 0.00e+000 2.64e-001  -3.8 4.74e+003    -  1.00e+000 1.00e+000f  1\n",
      "  28 -3.3344001e+002 0.00e+000 8.51e-002  -3.8 2.20e+003    -  1.00e+000 1.00e+000f  1\n",
      "  29 -3.3352082e+002 0.00e+000 6.80e-004  -3.8 4.73e+002    -  1.00e+000 1.00e+000f  1\n",
      "iter    objective    inf_pr   inf_du lg(mu)  ||d||  lg(rg) alpha_du alpha_pr  ls\n",
      "  30 -3.3352157e+002 0.00e+000 1.11e-007  -5.7 3.70e+000    -  1.00e+000 1.00e+000f  1\n",
      "  31 -3.3352158e+002 0.00e+000 2.51e-014  -8.6 1.82e-003    -  1.00e+000 1.00e+000f  1\n",
      "\n",
      "Number of Iterations....: 31\n",
      "\n",
      "                                   (scaled)                 (unscaled)\n",
      "Objective...............: -3.3352157843007313e+002  -3.3352157843007313e+002\n",
      "Dual infeasibility......:  2.5059164812657464e-014   2.5059164812657464e-014\n",
      "Constraint violation....:  0.0000000000000000e+000   0.0000000000000000e+000\n",
      "Complementarity.........:  2.5114052874656874e-009   2.5114052874656874e-009\n",
      "Overall NLP error.......:  2.5114052874656874e-009   2.5114052874656874e-009\n",
      "\n",
      "\n",
      "Number of objective function evaluations             = 47\n",
      "Number of objective gradient evaluations             = 32\n",
      "Number of equality constraint evaluations            = 0\n",
      "Number of inequality constraint evaluations          = 47\n",
      "Number of equality constraint Jacobian evaluations   = 0\n",
      "Number of inequality constraint Jacobian evaluations = 32\n",
      "Number of Lagrangian Hessian evaluations             = 31\n",
      "Total CPU secs in IPOPT (w/o function evaluations)   =      0.046\n",
      "Total CPU secs in NLP function evaluations           =      0.002\n",
      "\n",
      "EXIT: Optimal Solution Found.\n",
      "      solver  :   t_proc      (avg)   t_wall      (avg)    n_eval\n",
      "       nlp_f  |        0 (       0)        0 (       0)        47\n",
      "       nlp_g  |        0 (       0)        0 (       0)        47\n",
      "  nlp_grad_f  |        0 (       0)        0 (       0)        33\n",
      "  nlp_hess_l  |   2.00ms ( 64.52us)   2.01ms ( 64.77us)        31\n",
      "   nlp_jac_g  |        0 (       0)        0 (       0)        33\n",
      "       total  |  48.00ms ( 48.00ms)  47.61ms ( 47.61ms)         1\n",
      "[402.12704191  73.10746942  42.43483579]\n",
      "[  1596.09442138 107441.22892795    712.16426462   3348.6471352\n",
      "    621.41349254]\n"
     ]
    }
   ],
   "source": [
    "q0 = np.array([0.0, 0.0, 0.0])\n",
    "r0 = np.array([0.0, 0.0, 0.0, 0.0, 0.0])\n",
    "#opti.set_initial(r,r0)\n",
    "#opti.set_initial(q,q0)\n",
    "opti.solver('ipopt');\n",
    "sol = opti.solve();\n",
    "print(sol.value(q))\n",
    "print(sol.value(r))"
   ]
  },
  {
   "cell_type": "code",
   "execution_count": null,
   "metadata": {},
   "outputs": [],
   "source": []
  }
 ],
 "metadata": {
  "kernelspec": {
   "display_name": "Python 3",
   "language": "python",
   "name": "python3"
  },
  "language_info": {
   "codemirror_mode": {
    "name": "ipython",
    "version": 3
   },
   "file_extension": ".py",
   "mimetype": "text/x-python",
   "name": "python",
   "nbconvert_exporter": "python",
   "pygments_lexer": "ipython3",
   "version": "3.8.3"
  }
 },
 "nbformat": 4,
 "nbformat_minor": 4
}
